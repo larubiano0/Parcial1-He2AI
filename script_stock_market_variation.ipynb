{
  "cells": [
    {
      "cell_type": "markdown",
      "metadata": {
        "colab_type": "text",
        "id": "view-in-github"
      },
      "source": [
        "<a href=\"https://colab.research.google.com/github/larubiano0/Parcial1-He2AI/blob/main/script_stock_market_variation.ipynb\" target=\"_parent\"><img src=\"https://colab.research.google.com/assets/colab-badge.svg\" alt=\"Open In Colab\"/></a>"
      ]
    },
    {
      "cell_type": "code",
      "execution_count": 10,
      "metadata": {
        "id": "tEFX4tezYyLZ"
      },
      "outputs": [
        {
          "name": "stderr",
          "output_type": "stream",
          "text": [
            "Repo card metadata block was not found. Setting CardData to empty.\n"
          ]
        },
        {
          "name": "stdout",
          "output_type": "stream",
          "text": [
            "        Ticker        Date   Open  Close   Volume  quarter  year  \\\n",
            "0            A  2005-04-01  13.88  13.67  4717800        2  2005   \n",
            "1            A  2005-04-04  13.59  13.26  6827100        2  2005   \n",
            "2            A  2005-04-05  13.29  13.23  5839100        2  2005   \n",
            "3            A  2005-04-06  13.23  13.42  2994600        2  2005   \n",
            "4            A  2005-04-07  13.38  13.37  4072300        2  2005   \n",
            "...        ...         ...    ...    ...      ...      ...   ...   \n",
            "1048570     NI  2018-12-26  23.46  23.57  2903600        4  2018   \n",
            "1048571     NI  2018-12-27  23.57  23.82  2842500        4  2018   \n",
            "1048572     NI  2018-12-28  23.88  23.96  2023900        4  2018   \n",
            "1048573     NI  2018-12-31  23.95  23.84  3537500        4  2018   \n",
            "1048574     NI  2019-01-02  23.78  23.58  2717400        1  2019   \n",
            "\n",
            "         Asset Turnover  Current Ratio  Days Sales In Receivables  ...  \\\n",
            "0                0.1758         2.7269                    67.8873  ...   \n",
            "1                0.1758         2.7269                    67.8873  ...   \n",
            "2                0.1758         2.7269                    67.8873  ...   \n",
            "3                0.1758         2.7269                    67.8873  ...   \n",
            "4                0.1758         2.7269                    67.8873  ...   \n",
            "...                 ...            ...                        ...  ...   \n",
            "1048570          0.0670         0.5092                    70.6171  ...   \n",
            "1048571          0.0670         0.5092                    70.6171  ...   \n",
            "1048572          0.0670         0.5092                    70.6171  ...   \n",
            "1048573          0.0670         0.5092                    70.6171  ...   \n",
            "1048574          0.0854         0.4771                    57.9624  ...   \n",
            "\n",
            "         Gross Margin  Inventory Turnover Ratio  Long-term Debt / Capital  \\\n",
            "0             50.0783                    0.6660                    0.2291   \n",
            "1             50.0783                    0.6660                    0.2291   \n",
            "2             50.0783                    0.6660                    0.2291   \n",
            "3             50.0783                    0.6660                    0.2291   \n",
            "4             50.0783                    0.6660                    0.2291   \n",
            "...               ...                       ...                       ...   \n",
            "1048570       65.6838                    1.1872                    0.5527   \n",
            "1048571       65.6838                    1.1872                    0.5527   \n",
            "1048572       65.6838                    1.1872                    0.5527   \n",
            "1048573       65.6838                    1.1872                    0.5527   \n",
            "1048574       63.6164                    3.1539                    0.5516   \n",
            "\n",
            "         Net Profit Margin  Operating Margin  Pre-Tax Profit Margin  \\\n",
            "0                   7.4335            3.2864                 4.4601   \n",
            "1                   7.4335            3.2864                 4.4601   \n",
            "2                   7.4335            3.2864                 4.4601   \n",
            "3                   7.4335            3.2864                 4.4601   \n",
            "4                   7.4335            3.2864                 4.4601   \n",
            "...                    ...               ...                    ...   \n",
            "1048570            -1.3546           -5.3636               -11.3156   \n",
            "1048571            -1.3546           -5.3636               -11.3156   \n",
            "1048572            -1.3546           -5.3636               -11.3156   \n",
            "1048573            -1.3546           -5.3636               -11.3156   \n",
            "1048574            10.9691           20.0129                14.8626   \n",
            "\n",
            "         ROA - Return On Assets  ROE - Return On Equity  Receiveable Turnover  \\\n",
            "0                        0.7292                  1.3699                1.3257   \n",
            "1                        0.7292                  1.3699                1.3257   \n",
            "2                        0.7292                  1.3699                1.3257   \n",
            "3                        0.7292                  1.3699                1.3257   \n",
            "4                        0.7292                  1.3699                1.3257   \n",
            "...                         ...                     ...                   ...   \n",
            "1048570                     NaN                 -0.2402                1.2745   \n",
            "1048571                     NaN                 -0.2402                1.2745   \n",
            "1048572                     NaN                 -0.2402                1.2745   \n",
            "1048573                     NaN                 -0.2402                1.2745   \n",
            "1048574                     NaN                  4.4677                1.5527   \n",
            "\n",
            "         Return On Tangible Equity  \n",
            "0                           1.5538  \n",
            "1                           1.5538  \n",
            "2                           1.5538  \n",
            "3                           1.5538  \n",
            "4                           1.5538  \n",
            "...                            ...  \n",
            "1048570                    -0.3047  \n",
            "1048571                    -0.3047  \n",
            "1048572                    -0.3047  \n",
            "1048573                    -0.3047  \n",
            "1048574                     5.6550  \n",
            "\n",
            "[1048575 rows x 23 columns]\n"
          ]
        }
      ],
      "source": [
        "from datasets import load_dataset\n",
        "ds = load_dataset(\"pmoe7/SP_500_Stocks_Data-ratios_news_price_10_yrs\", data_files=\"sp500_daily_ratios_20yrs.zip\")\n",
        "df = ds['train'].to_pandas()\n",
        "print(df)"
      ]
    }
  ],
  "metadata": {
    "colab": {
      "include_colab_link": true,
      "provenance": []
    },
    "kernelspec": {
      "display_name": "Python 3",
      "name": "python3"
    },
    "language_info": {
      "codemirror_mode": {
        "name": "ipython",
        "version": 3
      },
      "file_extension": ".py",
      "mimetype": "text/x-python",
      "name": "python",
      "nbconvert_exporter": "python",
      "pygments_lexer": "ipython3",
      "version": "3.10.9"
    }
  },
  "nbformat": 4,
  "nbformat_minor": 0
}
